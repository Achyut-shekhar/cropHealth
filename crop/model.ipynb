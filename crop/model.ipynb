{
 "cells": [
  {
   "cell_type": "code",
   "execution_count": 2,
   "id": "5871e904-197f-4d8d-880f-8915b5a295a1",
   "metadata": {},
   "outputs": [],
   "source": [
    "# Import necessary libraries\n",
    "import numpy as np\n",
    "import pandas as pd\n",
    "import rasterio\n",
    "import geopandas as gpd\n",
    "import matplotlib.pyplot as plt\n",
    "import seaborn as sns\n",
    "from sklearn.model_selection import train_test_split\n",
    "from sklearn.preprocessing import StandardScaler\n",
    "from sklearn.metrics import confusion_matrix, accuracy_score, precision_score, recall_score, f1_score, roc_auc_score\n",
    "import tensorflow as tf\n",
    "from tensorflow.keras.models import Sequential\n",
    "from tensorflow.keras.layers import Dense, Dropout\n",
    "\n"
   ]
  },
  {
   "cell_type": "code",
   "execution_count": 4,
   "id": "7f2fab1c",
   "metadata": {},
   "outputs": [],
   "source": [
    "# Load raster data\n",
    "# Load DEM (Digital Elevation Model), orthophoto (multi-band), and DTM (Digital Terrain Model) using rasterio\n",
    "dem = rasterio.open('./data/DrnMppr-DEM-AOI.tif')\n",
    "ortho = rasterio.open('data/DrnMppr-ORT-AOI.tif')\n",
    "dtm = rasterio.open('data/DrnMppr-DTM-AOI.tif')\n"
   ]
  },
  {
   "cell_type": "code",
   "execution_count": 5,
   "id": "5fbc3dea-2ff9-4d1a-b2af-9e76c2086e8a",
   "metadata": {},
   "outputs": [],
   "source": [
    "# Read arrays from raster data\n",
    "# Read the first band for DEM and DTM, and the first six bands for orthophoto\n",
    "dem_arr = dem.read(1)\n",
    "ortho_arr = ortho.read([1, 2, 3, 4, 5, 6])  # R, G, B, NIR, RedEdge, Thermal\n",
    "dtm_arr = dtm.read(1)"
   ]
  },
  {
   "cell_type": "code",
   "execution_count": null,
   "id": "31173fd2",
   "metadata": {},
   "outputs": [],
   "source": [
    "# Load vector data\n",
    "# Load shapefiles containing plot data\n",
    "\n",
    "plots_1 = gpd.read_file('data/plots_1.shp')\n",
    "plots_2 = gpd.read_file('data/plots_2.shp')"
   ]
  },
  {
   "cell_type": "code",
   "execution_count": 12,
   "id": "fcaa68dd",
   "metadata": {},
   "outputs": [],
   "source": [
    "# Mask invalid data\n",
    "# Set invalid elevation and thermal values to NaN\n",
    "elevation = np.where(dem_arr <= 0, np.nan, dem_arr)\n",
    "masked_thermal = np.where(ortho_arr[5] <= 0, np.nan, ortho_arr[5] / 100 - 273.15)  # Convert to Celsius"
   ]
  },
  {
   "cell_type": "code",
   "execution_count": 13,
   "id": "eaa169d7",
   "metadata": {},
   "outputs": [],
   "source": [
    "# Generate NDVI (Normalized Difference Vegetation Index) with error handling\n",
    "# NDVI = (NIR - Red) / (NIR + Red)\n",
    "with np.errstate(divide='ignore', invalid='ignore'):\n",
    "    ndvi = (ortho_arr[3] - ortho_arr[0]) / (ortho_arr[3] + ortho_arr[0])\n",
    "    ndvi = np.where(np.isnan(ndvi), 0, ndvi)"
   ]
  },
  {
   "cell_type": "code",
   "execution_count": 15,
   "id": "3b482143",
   "metadata": {},
   "outputs": [],
   "source": [
    "# Compute zonal statistics for each plot\n",
    "# This function calculates the mean of the raster data within each plot geometry\n",
    "def compute_zonal_stats(plots, data, affine):\n",
    "    import rasterstats as rs\n",
    "    plot_zs = rs.zonal_stats(plots, data, affine=affine, stats=\"mean\", nodata=np.nan, geojson_out=True)\n",
    "    return gpd.GeoDataFrame.from_features(plot_zs)\n",
    "\n",
    "# Calculate mean NDVI, thermal, elevation, and DTM values for each plot\n",
    "plots_1['NDVI_mean'] = compute_zonal_stats(plots_1, ndvi, dem.transform)['mean']\n",
    "plots_1['thermal_mean'] = compute_zonal_stats(plots_1, masked_thermal, dem.transform)['mean']\n",
    "plots_1['elevation_mean'] = compute_zonal_stats(plots_1, elevation, dem.transform)['mean']\n",
    "plots_1['dtm_mean'] = compute_zonal_stats(plots_1, dtm_arr, dem.transform)['mean']"
   ]
  },
  {
   "cell_type": "code",
   "execution_count": 16,
   "id": "bd5a66bd",
   "metadata": {},
   "outputs": [],
   "source": [
    "# Data preparation\n",
    "# Drop NaN values and prepare feature matrix for model training\n",
    "plots_1 = plots_1.dropna()\n",
    "features = plots_1[['NDVI_mean', 'thermal_mean', 'elevation_mean', 'dtm_mean']]\n",
    "\n"
   ]
  },
  {
   "cell_type": "code",
   "execution_count": 17,
   "id": "0b89a1de",
   "metadata": {},
   "outputs": [],
   "source": [
    "# Create a synthetic target variable focusing on healthy crops\n",
    "# Define healthy crops based on NDVI values between 0.4 and 0.8\n",
    "healthy_mask = (plots_1['NDVI_mean'] >= 0.4) & (plots_1['NDVI_mean'] <= 0.8)\n",
    "plots_1['synthetic_target'] = np.where(healthy_mask, 1, 0)  # Healthy crops = 1, Others = 0"
   ]
  },
  {
   "cell_type": "code",
   "execution_count": 18,
   "id": "f040ba5b",
   "metadata": {},
   "outputs": [
    {
     "name": "stdout",
     "output_type": "stream",
     "text": [
      "Class distribution:\n",
      "synthetic_target\n",
      "0    78\n",
      "1    54\n",
      "Name: count, dtype: int64\n"
     ]
    }
   ],
   "source": [
    "# Check data balance\n",
    "# Print class distribution to check for imbalance\n",
    "class_counts = plots_1['synthetic_target'].value_counts()\n",
    "print(f\"Class distribution:\\n{class_counts}\")\n",
    "\n",
    "# Handle data imbalance by undersampling the majority class\n",
    "from sklearn.utils import resample\n",
    "\n",
    "# Separate majority and minority classes\n",
    "# This variable indicates whether a crop is healthy (1) or not (0).\n",
    "minority_class = plots_1[plots_1['synthetic_target'] == 1]\n",
    "majority_class = plots_1[plots_1['synthetic_target'] == 0]\n",
    "\n",
    "# Resample majority class to match the minority class size\n",
    "majority_class_downsampled = resample(majority_class, \n",
    "                                      replace=False, \n",
    "                                      n_samples=len(minority_class), \n",
    "                                      random_state=42)\n",
    "balanced_data = pd.concat([minority_class, majority_class_downsampled])\n",
    "\n",
    "# Reassign features and target from the balanced data\n",
    "features = balanced_data[['NDVI_mean', 'thermal_mean', 'elevation_mean', 'dtm_mean']]\n",
    "target = balanced_data['synthetic_target']"
   ]
  },
  {
   "cell_type": "code",
   "execution_count": 19,
   "id": "eec55171",
   "metadata": {},
   "outputs": [],
   "source": [
    "\n",
    "# Split data into training and testing sets\n",
    "X_train, X_test, y_train, y_test = train_test_split(features, target, test_size=0.2, random_state=42)"
   ]
  },
  {
   "cell_type": "code",
   "execution_count": 20,
   "id": "0e0393d1",
   "metadata": {},
   "outputs": [],
   "source": [
    "# Standardize data\n",
    "# Standardize features to have zero mean and unit variance\n",
    "scaler = StandardScaler()\n",
    "X_train = scaler.fit_transform(X_train)\n",
    "X_test = scaler.transform(X_test)\n"
   ]
  },
  {
   "cell_type": "code",
   "execution_count": 22,
   "id": "2447c9ea",
   "metadata": {},
   "outputs": [
    {
     "name": "stderr",
     "output_type": "stream",
     "text": [
      "c:\\Users\\achyu\\anaconda3\\Lib\\site-packages\\keras\\src\\layers\\core\\dense.py:87: UserWarning: Do not pass an `input_shape`/`input_dim` argument to a layer. When using Sequential models, prefer using an `Input(shape)` object as the first layer in the model instead.\n",
      "  super().__init__(activity_regularizer=activity_regularizer, **kwargs)\n"
     ]
    }
   ],
   "source": [
    "# Define the neural network model\n",
    "# The model has three layers: two hidden layers with dropout and an output layer with sigmoid activation for binary classification\n",
    "model = Sequential([\n",
    "    Dense(128, activation='relu', input_shape=(X_train.shape[1],)),\n",
    "    Dropout(0.3),\n",
    "    Dense(64, activation='relu'),\n",
    "    Dropout(0.3),\n",
    "    Dense(1, activation='sigmoid')  # Sigmoid activation function for binary classification\n",
    "])"
   ]
  },
  {
   "cell_type": "code",
   "execution_count": 23,
   "id": "e29c7bbb",
   "metadata": {},
   "outputs": [],
   "source": [
    "# Compile the model\n",
    "# Use Adam optimizer and binary crossentropy loss for compilation\n",
    "model.compile(optimizer='adam', loss='binary_crossentropy', metrics=['accuracy'])"
   ]
  },
  {
   "cell_type": "code",
   "execution_count": 24,
   "id": "5ac5d8bb",
   "metadata": {},
   "outputs": [
    {
     "name": "stdout",
     "output_type": "stream",
     "text": [
      "Epoch 1/100\n",
      "\u001b[1m3/3\u001b[0m \u001b[32m━━━━━━━━━━━━━━━━━━━━\u001b[0m\u001b[37m\u001b[0m \u001b[1m1s\u001b[0m 103ms/step - accuracy: 0.2920 - loss: 0.7585 - val_accuracy: 0.3333 - val_loss: 0.7169\n",
      "Epoch 2/100\n",
      "\u001b[1m3/3\u001b[0m \u001b[32m━━━━━━━━━━━━━━━━━━━━\u001b[0m\u001b[37m\u001b[0m \u001b[1m0s\u001b[0m 44ms/step - accuracy: 0.4007 - loss: 0.7115 - val_accuracy: 0.7778 - val_loss: 0.6523\n",
      "Epoch 3/100\n",
      "\u001b[1m3/3\u001b[0m \u001b[32m━━━━━━━━━━━━━━━━━━━━\u001b[0m\u001b[37m\u001b[0m \u001b[1m0s\u001b[0m 32ms/step - accuracy: 0.6404 - loss: 0.6477 - val_accuracy: 0.9444 - val_loss: 0.5968\n",
      "Epoch 4/100\n",
      "\u001b[1m3/3\u001b[0m \u001b[32m━━━━━━━━━━━━━━━━━━━━\u001b[0m\u001b[37m\u001b[0m \u001b[1m0s\u001b[0m 35ms/step - accuracy: 0.8826 - loss: 0.5686 - val_accuracy: 1.0000 - val_loss: 0.5479\n",
      "Epoch 5/100\n",
      "\u001b[1m3/3\u001b[0m \u001b[32m━━━━━━━━━━━━━━━━━━━━\u001b[0m\u001b[37m\u001b[0m \u001b[1m0s\u001b[0m 31ms/step - accuracy: 0.9056 - loss: 0.5288 - val_accuracy: 1.0000 - val_loss: 0.5042\n",
      "Epoch 6/100\n",
      "\u001b[1m3/3\u001b[0m \u001b[32m━━━━━━━━━━━━━━━━━━━━\u001b[0m\u001b[37m\u001b[0m \u001b[1m0s\u001b[0m 31ms/step - accuracy: 0.8136 - loss: 0.4993 - val_accuracy: 1.0000 - val_loss: 0.4644\n",
      "Epoch 7/100\n",
      "\u001b[1m3/3\u001b[0m \u001b[32m━━━━━━━━━━━━━━━━━━━━\u001b[0m\u001b[37m\u001b[0m \u001b[1m0s\u001b[0m 31ms/step - accuracy: 0.9012 - loss: 0.4570 - val_accuracy: 1.0000 - val_loss: 0.4270\n",
      "Epoch 8/100\n",
      "\u001b[1m3/3\u001b[0m \u001b[32m━━━━━━━━━━━━━━━━━━━━\u001b[0m\u001b[37m\u001b[0m \u001b[1m0s\u001b[0m 31ms/step - accuracy: 0.8821 - loss: 0.4545 - val_accuracy: 1.0000 - val_loss: 0.3909\n",
      "Epoch 9/100\n",
      "\u001b[1m3/3\u001b[0m \u001b[32m━━━━━━━━━━━━━━━━━━━━\u001b[0m\u001b[37m\u001b[0m \u001b[1m0s\u001b[0m 33ms/step - accuracy: 0.9281 - loss: 0.3958 - val_accuracy: 1.0000 - val_loss: 0.3566\n",
      "Epoch 10/100\n",
      "\u001b[1m3/3\u001b[0m \u001b[32m━━━━━━━━━━━━━━━━━━━━\u001b[0m\u001b[37m\u001b[0m \u001b[1m0s\u001b[0m 31ms/step - accuracy: 0.9168 - loss: 0.3734 - val_accuracy: 1.0000 - val_loss: 0.3254\n",
      "Epoch 11/100\n",
      "\u001b[1m3/3\u001b[0m \u001b[32m━━━━━━━━━━━━━━━━━━━━\u001b[0m\u001b[37m\u001b[0m \u001b[1m0s\u001b[0m 32ms/step - accuracy: 0.9281 - loss: 0.3364 - val_accuracy: 1.0000 - val_loss: 0.2966\n",
      "Epoch 12/100\n",
      "\u001b[1m3/3\u001b[0m \u001b[32m━━━━━━━━━━━━━━━━━━━━\u001b[0m\u001b[37m\u001b[0m \u001b[1m0s\u001b[0m 32ms/step - accuracy: 0.9393 - loss: 0.3191 - val_accuracy: 1.0000 - val_loss: 0.2701\n",
      "Epoch 13/100\n",
      "\u001b[1m3/3\u001b[0m \u001b[32m━━━━━━━━━━━━━━━━━━━━\u001b[0m\u001b[37m\u001b[0m \u001b[1m0s\u001b[0m 31ms/step - accuracy: 0.9168 - loss: 0.2813 - val_accuracy: 1.0000 - val_loss: 0.2469\n",
      "Epoch 14/100\n",
      "\u001b[1m3/3\u001b[0m \u001b[32m━━━━━━━━━━━━━━━━━━━━\u001b[0m\u001b[37m\u001b[0m \u001b[1m0s\u001b[0m 31ms/step - accuracy: 0.9281 - loss: 0.2670 - val_accuracy: 1.0000 - val_loss: 0.2266\n",
      "Epoch 15/100\n",
      "\u001b[1m3/3\u001b[0m \u001b[32m━━━━━━━━━━━━━━━━━━━━\u001b[0m\u001b[37m\u001b[0m \u001b[1m0s\u001b[0m 31ms/step - accuracy: 0.9359 - loss: 0.2506 - val_accuracy: 1.0000 - val_loss: 0.2080\n",
      "Epoch 16/100\n",
      "\u001b[1m3/3\u001b[0m \u001b[32m━━━━━━━━━━━━━━━━━━━━\u001b[0m\u001b[37m\u001b[0m \u001b[1m0s\u001b[0m 31ms/step - accuracy: 0.9472 - loss: 0.2405 - val_accuracy: 1.0000 - val_loss: 0.1908\n",
      "Epoch 17/100\n",
      "\u001b[1m3/3\u001b[0m \u001b[32m━━━━━━━━━━━━━━━━━━━━\u001b[0m\u001b[37m\u001b[0m \u001b[1m0s\u001b[0m 32ms/step - accuracy: 0.8938 - loss: 0.2358 - val_accuracy: 1.0000 - val_loss: 0.1752\n",
      "Epoch 18/100\n",
      "\u001b[1m3/3\u001b[0m \u001b[32m━━━━━━━━━━━━━━━━━━━━\u001b[0m\u001b[37m\u001b[0m \u001b[1m0s\u001b[0m 31ms/step - accuracy: 0.9432 - loss: 0.2188 - val_accuracy: 1.0000 - val_loss: 0.1630\n",
      "Epoch 19/100\n",
      "\u001b[1m3/3\u001b[0m \u001b[32m━━━━━━━━━━━━━━━━━━━━\u001b[0m\u001b[37m\u001b[0m \u001b[1m0s\u001b[0m 31ms/step - accuracy: 0.9359 - loss: 0.2062 - val_accuracy: 1.0000 - val_loss: 0.1523\n",
      "Epoch 20/100\n",
      "\u001b[1m3/3\u001b[0m \u001b[32m━━━━━━━━━━━━━━━━━━━━\u001b[0m\u001b[37m\u001b[0m \u001b[1m0s\u001b[0m 34ms/step - accuracy: 0.9281 - loss: 0.2246 - val_accuracy: 1.0000 - val_loss: 0.1410\n",
      "Epoch 21/100\n",
      "\u001b[1m3/3\u001b[0m \u001b[32m━━━━━━━━━━━━━━━━━━━━\u001b[0m\u001b[37m\u001b[0m \u001b[1m0s\u001b[0m 32ms/step - accuracy: 0.9129 - loss: 0.2057 - val_accuracy: 1.0000 - val_loss: 0.1312\n",
      "Epoch 22/100\n",
      "\u001b[1m3/3\u001b[0m \u001b[32m━━━━━━━━━━━━━━━━━━━━\u001b[0m\u001b[37m\u001b[0m \u001b[1m0s\u001b[0m 43ms/step - accuracy: 0.9285 - loss: 0.1795 - val_accuracy: 1.0000 - val_loss: 0.1232\n",
      "Epoch 23/100\n",
      "\u001b[1m3/3\u001b[0m \u001b[32m━━━━━━━━━━━━━━━━━━━━\u001b[0m\u001b[37m\u001b[0m \u001b[1m0s\u001b[0m 27ms/step - accuracy: 0.9090 - loss: 0.1878 - val_accuracy: 1.0000 - val_loss: 0.1174\n",
      "Epoch 24/100\n",
      "\u001b[1m3/3\u001b[0m \u001b[32m━━━━━━━━━━━━━━━━━━━━\u001b[0m\u001b[37m\u001b[0m \u001b[1m0s\u001b[0m 30ms/step - accuracy: 0.9393 - loss: 0.1742 - val_accuracy: 1.0000 - val_loss: 0.1121\n",
      "Epoch 25/100\n",
      "\u001b[1m3/3\u001b[0m \u001b[32m━━━━━━━━━━━━━━━━━━━━\u001b[0m\u001b[37m\u001b[0m \u001b[1m0s\u001b[0m 27ms/step - accuracy: 0.9125 - loss: 0.2078 - val_accuracy: 1.0000 - val_loss: 0.1083\n",
      "Epoch 26/100\n",
      "\u001b[1m3/3\u001b[0m \u001b[32m━━━━━━━━━━━━━━━━━━━━\u001b[0m\u001b[37m\u001b[0m \u001b[1m0s\u001b[0m 30ms/step - accuracy: 0.9095 - loss: 0.1947 - val_accuracy: 1.0000 - val_loss: 0.1049\n",
      "Epoch 27/100\n",
      "\u001b[1m3/3\u001b[0m \u001b[32m━━━━━━━━━━━━━━━━━━━━\u001b[0m\u001b[37m\u001b[0m \u001b[1m0s\u001b[0m 30ms/step - accuracy: 0.9359 - loss: 0.1916 - val_accuracy: 1.0000 - val_loss: 0.1029\n",
      "Epoch 28/100\n",
      "\u001b[1m3/3\u001b[0m \u001b[32m━━━━━━━━━━━━━━━━━━━━\u001b[0m\u001b[37m\u001b[0m \u001b[1m0s\u001b[0m 31ms/step - accuracy: 0.9324 - loss: 0.1726 - val_accuracy: 1.0000 - val_loss: 0.1012\n",
      "Epoch 29/100\n",
      "\u001b[1m3/3\u001b[0m \u001b[32m━━━━━━━━━━━━━━━━━━━━\u001b[0m\u001b[37m\u001b[0m \u001b[1m0s\u001b[0m 33ms/step - accuracy: 0.9281 - loss: 0.1770 - val_accuracy: 1.0000 - val_loss: 0.0992\n",
      "Epoch 30/100\n",
      "\u001b[1m3/3\u001b[0m \u001b[32m━━━━━━━━━━━━━━━━━━━━\u001b[0m\u001b[37m\u001b[0m \u001b[1m0s\u001b[0m 31ms/step - accuracy: 0.9129 - loss: 0.1920 - val_accuracy: 1.0000 - val_loss: 0.0972\n",
      "Epoch 31/100\n",
      "\u001b[1m3/3\u001b[0m \u001b[32m━━━━━━━━━━━━━━━━━━━━\u001b[0m\u001b[37m\u001b[0m \u001b[1m0s\u001b[0m 30ms/step - accuracy: 0.9432 - loss: 0.1484 - val_accuracy: 1.0000 - val_loss: 0.0943\n",
      "Epoch 32/100\n",
      "\u001b[1m3/3\u001b[0m \u001b[32m━━━━━━━━━━━━━━━━━━━━\u001b[0m\u001b[37m\u001b[0m \u001b[1m0s\u001b[0m 32ms/step - accuracy: 0.9393 - loss: 0.1812 - val_accuracy: 1.0000 - val_loss: 0.0933\n",
      "Epoch 33/100\n",
      "\u001b[1m3/3\u001b[0m \u001b[32m━━━━━━━━━━━━━━━━━━━━\u001b[0m\u001b[37m\u001b[0m \u001b[1m0s\u001b[0m 31ms/step - accuracy: 0.9623 - loss: 0.1370 - val_accuracy: 1.0000 - val_loss: 0.0920\n",
      "Epoch 34/100\n",
      "\u001b[1m3/3\u001b[0m \u001b[32m━━━━━━━━━━━━━━━━━━━━\u001b[0m\u001b[37m\u001b[0m \u001b[1m0s\u001b[0m 33ms/step - accuracy: 0.9281 - loss: 0.1491 - val_accuracy: 1.0000 - val_loss: 0.0901\n",
      "Epoch 35/100\n",
      "\u001b[1m3/3\u001b[0m \u001b[32m━━━━━━━━━━━━━━━━━━━━\u001b[0m\u001b[37m\u001b[0m \u001b[1m0s\u001b[0m 28ms/step - accuracy: 0.9315 - loss: 0.1591 - val_accuracy: 1.0000 - val_loss: 0.0878\n",
      "Epoch 36/100\n",
      "\u001b[1m3/3\u001b[0m \u001b[32m━━━━━━━━━━━━━━━━━━━━\u001b[0m\u001b[37m\u001b[0m \u001b[1m0s\u001b[0m 32ms/step - accuracy: 0.9315 - loss: 0.1712 - val_accuracy: 1.0000 - val_loss: 0.0860\n",
      "Epoch 37/100\n",
      "\u001b[1m3/3\u001b[0m \u001b[32m━━━━━━━━━━━━━━━━━━━━\u001b[0m\u001b[37m\u001b[0m \u001b[1m0s\u001b[0m 32ms/step - accuracy: 0.9550 - loss: 0.1249 - val_accuracy: 1.0000 - val_loss: 0.0837\n",
      "Epoch 38/100\n",
      "\u001b[1m3/3\u001b[0m \u001b[32m━━━━━━━━━━━━━━━━━━━━\u001b[0m\u001b[37m\u001b[0m \u001b[1m0s\u001b[0m 32ms/step - accuracy: 0.9090 - loss: 0.1648 - val_accuracy: 1.0000 - val_loss: 0.0808\n",
      "Epoch 39/100\n",
      "\u001b[1m3/3\u001b[0m \u001b[32m━━━━━━━━━━━━━━━━━━━━\u001b[0m\u001b[37m\u001b[0m \u001b[1m0s\u001b[0m 31ms/step - accuracy: 0.9281 - loss: 0.1533 - val_accuracy: 1.0000 - val_loss: 0.0786\n",
      "Epoch 40/100\n",
      "\u001b[1m3/3\u001b[0m \u001b[32m━━━━━━━━━━━━━━━━━━━━\u001b[0m\u001b[37m\u001b[0m \u001b[1m0s\u001b[0m 31ms/step - accuracy: 0.9545 - loss: 0.1503 - val_accuracy: 1.0000 - val_loss: 0.0764\n",
      "Epoch 41/100\n",
      "\u001b[1m3/3\u001b[0m \u001b[32m━━━━━━━━━━━━━━━━━━━━\u001b[0m\u001b[37m\u001b[0m \u001b[1m0s\u001b[0m 31ms/step - accuracy: 0.9320 - loss: 0.1391 - val_accuracy: 1.0000 - val_loss: 0.0733\n",
      "Epoch 42/100\n",
      "\u001b[1m3/3\u001b[0m \u001b[32m━━━━━━━━━━━━━━━━━━━━\u001b[0m\u001b[37m\u001b[0m \u001b[1m0s\u001b[0m 44ms/step - accuracy: 0.9281 - loss: 0.1396 - val_accuracy: 1.0000 - val_loss: 0.0710\n",
      "Epoch 43/100\n",
      "\u001b[1m3/3\u001b[0m \u001b[32m━━━━━━━━━━━━━━━━━━━━\u001b[0m\u001b[37m\u001b[0m \u001b[1m0s\u001b[0m 30ms/step - accuracy: 0.9398 - loss: 0.1367 - val_accuracy: 1.0000 - val_loss: 0.0687\n",
      "Epoch 44/100\n",
      "\u001b[1m3/3\u001b[0m \u001b[32m━━━━━━━━━━━━━━━━━━━━\u001b[0m\u001b[37m\u001b[0m \u001b[1m0s\u001b[0m 31ms/step - accuracy: 0.9281 - loss: 0.1518 - val_accuracy: 1.0000 - val_loss: 0.0659\n",
      "Epoch 45/100\n",
      "\u001b[1m3/3\u001b[0m \u001b[32m━━━━━━━━━━━━━━━━━━━━\u001b[0m\u001b[37m\u001b[0m \u001b[1m0s\u001b[0m 33ms/step - accuracy: 0.9398 - loss: 0.1229 - val_accuracy: 1.0000 - val_loss: 0.0638\n",
      "Epoch 46/100\n",
      "\u001b[1m3/3\u001b[0m \u001b[32m━━━━━━━━━━━━━━━━━━━━\u001b[0m\u001b[37m\u001b[0m \u001b[1m0s\u001b[0m 30ms/step - accuracy: 0.9315 - loss: 0.1372 - val_accuracy: 1.0000 - val_loss: 0.0628\n",
      "Epoch 47/100\n",
      "\u001b[1m3/3\u001b[0m \u001b[32m━━━━━━━━━━━━━━━━━━━━\u001b[0m\u001b[37m\u001b[0m \u001b[1m0s\u001b[0m 31ms/step - accuracy: 0.9125 - loss: 0.1520 - val_accuracy: 1.0000 - val_loss: 0.0620\n",
      "Epoch 48/100\n",
      "\u001b[1m3/3\u001b[0m \u001b[32m━━━━━━━━━━━━━━━━━━━━\u001b[0m\u001b[37m\u001b[0m \u001b[1m0s\u001b[0m 34ms/step - accuracy: 0.9354 - loss: 0.1533 - val_accuracy: 1.0000 - val_loss: 0.0613\n",
      "Epoch 49/100\n",
      "\u001b[1m3/3\u001b[0m \u001b[32m━━━━━━━━━━━━━━━━━━━━\u001b[0m\u001b[37m\u001b[0m \u001b[1m0s\u001b[0m 33ms/step - accuracy: 0.9662 - loss: 0.1132 - val_accuracy: 1.0000 - val_loss: 0.0610\n",
      "Epoch 50/100\n",
      "\u001b[1m3/3\u001b[0m \u001b[32m━━━━━━━━━━━━━━━━━━━━\u001b[0m\u001b[37m\u001b[0m \u001b[1m0s\u001b[0m 31ms/step - accuracy: 0.9281 - loss: 0.1552 - val_accuracy: 1.0000 - val_loss: 0.0628\n",
      "Epoch 51/100\n",
      "\u001b[1m3/3\u001b[0m \u001b[32m━━━━━━━━━━━━━━━━━━━━\u001b[0m\u001b[37m\u001b[0m \u001b[1m0s\u001b[0m 29ms/step - accuracy: 0.9246 - loss: 0.1406 - val_accuracy: 1.0000 - val_loss: 0.0621\n",
      "Epoch 52/100\n",
      "\u001b[1m3/3\u001b[0m \u001b[32m━━━━━━━━━━━━━━━━━━━━\u001b[0m\u001b[37m\u001b[0m \u001b[1m0s\u001b[0m 32ms/step - accuracy: 0.9237 - loss: 0.1731 - val_accuracy: 1.0000 - val_loss: 0.0597\n",
      "Epoch 53/100\n",
      "\u001b[1m3/3\u001b[0m \u001b[32m━━━━━━━━━━━━━━━━━━━━\u001b[0m\u001b[37m\u001b[0m \u001b[1m0s\u001b[0m 34ms/step - accuracy: 0.9506 - loss: 0.1569 - val_accuracy: 1.0000 - val_loss: 0.0581\n",
      "Epoch 54/100\n",
      "\u001b[1m3/3\u001b[0m \u001b[32m━━━━━━━━━━━━━━━━━━━━\u001b[0m\u001b[37m\u001b[0m \u001b[1m0s\u001b[0m 33ms/step - accuracy: 0.9428 - loss: 0.1379 - val_accuracy: 1.0000 - val_loss: 0.0563\n",
      "Epoch 55/100\n",
      "\u001b[1m3/3\u001b[0m \u001b[32m━━━━━━━━━━━━━━━━━━━━\u001b[0m\u001b[37m\u001b[0m \u001b[1m0s\u001b[0m 30ms/step - accuracy: 0.9203 - loss: 0.1364 - val_accuracy: 1.0000 - val_loss: 0.0548\n",
      "Epoch 56/100\n",
      "\u001b[1m3/3\u001b[0m \u001b[32m━━━━━━━━━━━━━━━━━━━━\u001b[0m\u001b[37m\u001b[0m \u001b[1m0s\u001b[0m 31ms/step - accuracy: 0.9315 - loss: 0.1301 - val_accuracy: 1.0000 - val_loss: 0.0530\n",
      "Epoch 57/100\n",
      "\u001b[1m3/3\u001b[0m \u001b[32m━━━━━━━━━━━━━━━━━━━━\u001b[0m\u001b[37m\u001b[0m \u001b[1m0s\u001b[0m 33ms/step - accuracy: 0.9472 - loss: 0.1164 - val_accuracy: 1.0000 - val_loss: 0.0506\n",
      "Epoch 58/100\n",
      "\u001b[1m3/3\u001b[0m \u001b[32m━━━━━━━━━━━━━━━━━━━━\u001b[0m\u001b[37m\u001b[0m \u001b[1m0s\u001b[0m 30ms/step - accuracy: 0.9281 - loss: 0.1438 - val_accuracy: 1.0000 - val_loss: 0.0481\n",
      "Epoch 59/100\n",
      "\u001b[1m3/3\u001b[0m \u001b[32m━━━━━━━━━━━━━━━━━━━━\u001b[0m\u001b[37m\u001b[0m \u001b[1m0s\u001b[0m 31ms/step - accuracy: 0.9697 - loss: 0.1252 - val_accuracy: 1.0000 - val_loss: 0.0456\n",
      "Epoch 60/100\n",
      "\u001b[1m3/3\u001b[0m \u001b[32m━━━━━━━━━━━━━━━━━━━━\u001b[0m\u001b[37m\u001b[0m \u001b[1m0s\u001b[0m 31ms/step - accuracy: 0.9242 - loss: 0.1443 - val_accuracy: 1.0000 - val_loss: 0.0432\n",
      "Epoch 61/100\n",
      "\u001b[1m3/3\u001b[0m \u001b[32m━━━━━━━━━━━━━━━━━━━━\u001b[0m\u001b[37m\u001b[0m \u001b[1m0s\u001b[0m 33ms/step - accuracy: 0.9506 - loss: 0.1200 - val_accuracy: 1.0000 - val_loss: 0.0409\n",
      "Epoch 62/100\n",
      "\u001b[1m3/3\u001b[0m \u001b[32m━━━━━━━━━━━━━━━━━━━━\u001b[0m\u001b[37m\u001b[0m \u001b[1m0s\u001b[0m 45ms/step - accuracy: 0.9472 - loss: 0.1071 - val_accuracy: 1.0000 - val_loss: 0.0390\n",
      "Epoch 63/100\n",
      "\u001b[1m3/3\u001b[0m \u001b[32m━━━━━━━━━━━━━━━━━━━━\u001b[0m\u001b[37m\u001b[0m \u001b[1m0s\u001b[0m 30ms/step - accuracy: 0.8899 - loss: 0.1529 - val_accuracy: 1.0000 - val_loss: 0.0377\n",
      "Epoch 64/100\n",
      "\u001b[1m3/3\u001b[0m \u001b[32m━━━━━━━━━━━━━━━━━━━━\u001b[0m\u001b[37m\u001b[0m \u001b[1m0s\u001b[0m 31ms/step - accuracy: 0.9697 - loss: 0.1217 - val_accuracy: 1.0000 - val_loss: 0.0365\n",
      "Epoch 65/100\n",
      "\u001b[1m3/3\u001b[0m \u001b[32m━━━━━━━━━━━━━━━━━━━━\u001b[0m\u001b[37m\u001b[0m \u001b[1m0s\u001b[0m 28ms/step - accuracy: 0.9315 - loss: 0.1150 - val_accuracy: 1.0000 - val_loss: 0.0352\n",
      "Epoch 66/100\n",
      "\u001b[1m3/3\u001b[0m \u001b[32m━━━━━━━━━━━━━━━━━━━━\u001b[0m\u001b[37m\u001b[0m \u001b[1m0s\u001b[0m 31ms/step - accuracy: 0.9393 - loss: 0.1088 - val_accuracy: 1.0000 - val_loss: 0.0336\n",
      "Epoch 67/100\n",
      "\u001b[1m3/3\u001b[0m \u001b[32m━━━━━━━━━━━━━━━━━━━━\u001b[0m\u001b[37m\u001b[0m \u001b[1m0s\u001b[0m 32ms/step - accuracy: 0.9281 - loss: 0.1259 - val_accuracy: 1.0000 - val_loss: 0.0316\n",
      "Epoch 68/100\n",
      "\u001b[1m3/3\u001b[0m \u001b[32m━━━━━━━━━━━━━━━━━━━━\u001b[0m\u001b[37m\u001b[0m \u001b[1m0s\u001b[0m 33ms/step - accuracy: 0.9550 - loss: 0.0963 - val_accuracy: 1.0000 - val_loss: 0.0303\n",
      "Epoch 69/100\n",
      "\u001b[1m3/3\u001b[0m \u001b[32m━━━━━━━━━━━━━━━━━━━━\u001b[0m\u001b[37m\u001b[0m \u001b[1m0s\u001b[0m 31ms/step - accuracy: 0.9584 - loss: 0.1190 - val_accuracy: 1.0000 - val_loss: 0.0303\n",
      "Epoch 70/100\n",
      "\u001b[1m3/3\u001b[0m \u001b[32m━━━━━━━━━━━━━━━━━━━━\u001b[0m\u001b[37m\u001b[0m \u001b[1m0s\u001b[0m 32ms/step - accuracy: 0.9393 - loss: 0.0998 - val_accuracy: 1.0000 - val_loss: 0.0316\n",
      "Epoch 71/100\n",
      "\u001b[1m3/3\u001b[0m \u001b[32m━━━━━━━━━━━━━━━━━━━━\u001b[0m\u001b[37m\u001b[0m \u001b[1m0s\u001b[0m 37ms/step - accuracy: 0.9662 - loss: 0.1048 - val_accuracy: 1.0000 - val_loss: 0.0331\n",
      "Epoch 72/100\n",
      "\u001b[1m3/3\u001b[0m \u001b[32m━━━━━━━━━━━━━━━━━━━━\u001b[0m\u001b[37m\u001b[0m \u001b[1m0s\u001b[0m 31ms/step - accuracy: 0.9393 - loss: 0.1174 - val_accuracy: 1.0000 - val_loss: 0.0337\n",
      "Epoch 73/100\n",
      "\u001b[1m3/3\u001b[0m \u001b[32m━━━━━━━━━━━━━━━━━━━━\u001b[0m\u001b[37m\u001b[0m \u001b[1m0s\u001b[0m 31ms/step - accuracy: 0.9584 - loss: 0.1054 - val_accuracy: 1.0000 - val_loss: 0.0322\n",
      "Epoch 74/100\n",
      "\u001b[1m3/3\u001b[0m \u001b[32m━━━━━━━━━━━━━━━━━━━━\u001b[0m\u001b[37m\u001b[0m \u001b[1m0s\u001b[0m 31ms/step - accuracy: 0.9242 - loss: 0.1268 - val_accuracy: 1.0000 - val_loss: 0.0318\n",
      "Epoch 75/100\n",
      "\u001b[1m3/3\u001b[0m \u001b[32m━━━━━━━━━━━━━━━━━━━━\u001b[0m\u001b[37m\u001b[0m \u001b[1m0s\u001b[0m 33ms/step - accuracy: 0.9506 - loss: 0.1338 - val_accuracy: 1.0000 - val_loss: 0.0332\n",
      "Epoch 76/100\n",
      "\u001b[1m3/3\u001b[0m \u001b[32m━━━━━━━━━━━━━━━━━━━━\u001b[0m\u001b[37m\u001b[0m \u001b[1m0s\u001b[0m 32ms/step - accuracy: 0.9697 - loss: 0.0969 - val_accuracy: 1.0000 - val_loss: 0.0348\n",
      "Epoch 77/100\n",
      "\u001b[1m3/3\u001b[0m \u001b[32m━━━━━━━━━━━━━━━━━━━━\u001b[0m\u001b[37m\u001b[0m \u001b[1m0s\u001b[0m 32ms/step - accuracy: 0.9472 - loss: 0.1117 - val_accuracy: 1.0000 - val_loss: 0.0359\n",
      "Epoch 78/100\n",
      "\u001b[1m3/3\u001b[0m \u001b[32m━━━━━━━━━━━━━━━━━━━━\u001b[0m\u001b[37m\u001b[0m \u001b[1m0s\u001b[0m 31ms/step - accuracy: 0.9315 - loss: 0.1169 - val_accuracy: 1.0000 - val_loss: 0.0364\n",
      "Epoch 79/100\n",
      "\u001b[1m3/3\u001b[0m \u001b[32m━━━━━━━━━━━━━━━━━━━━\u001b[0m\u001b[37m\u001b[0m \u001b[1m0s\u001b[0m 32ms/step - accuracy: 0.9393 - loss: 0.1175 - val_accuracy: 1.0000 - val_loss: 0.0374\n",
      "Epoch 80/100\n",
      "\u001b[1m3/3\u001b[0m \u001b[32m━━━━━━━━━━━━━━━━━━━━\u001b[0m\u001b[37m\u001b[0m \u001b[1m0s\u001b[0m 32ms/step - accuracy: 0.9359 - loss: 0.1160 - val_accuracy: 1.0000 - val_loss: 0.0369\n",
      "Epoch 81/100\n",
      "\u001b[1m3/3\u001b[0m \u001b[32m━━━━━━━━━━━━━━━━━━━━\u001b[0m\u001b[37m\u001b[0m \u001b[1m0s\u001b[0m 41ms/step - accuracy: 0.9662 - loss: 0.0867 - val_accuracy: 1.0000 - val_loss: 0.0357\n",
      "Epoch 82/100\n",
      "\u001b[1m3/3\u001b[0m \u001b[32m━━━━━━━━━━━━━━━━━━━━\u001b[0m\u001b[37m\u001b[0m \u001b[1m0s\u001b[0m 35ms/step - accuracy: 0.9506 - loss: 0.0997 - val_accuracy: 1.0000 - val_loss: 0.0338\n",
      "Epoch 83/100\n",
      "\u001b[1m3/3\u001b[0m \u001b[32m━━━━━━━━━━━━━━━━━━━━\u001b[0m\u001b[37m\u001b[0m \u001b[1m0s\u001b[0m 31ms/step - accuracy: 0.9545 - loss: 0.1200 - val_accuracy: 1.0000 - val_loss: 0.0325\n",
      "Epoch 84/100\n",
      "\u001b[1m3/3\u001b[0m \u001b[32m━━━━━━━━━━━━━━━━━━━━\u001b[0m\u001b[37m\u001b[0m \u001b[1m0s\u001b[0m 31ms/step - accuracy: 0.9775 - loss: 0.0945 - val_accuracy: 1.0000 - val_loss: 0.0324\n",
      "Epoch 85/100\n",
      "\u001b[1m3/3\u001b[0m \u001b[32m━━━━━━━━━━━━━━━━━━━━\u001b[0m\u001b[37m\u001b[0m \u001b[1m0s\u001b[0m 32ms/step - accuracy: 0.9623 - loss: 0.0897 - val_accuracy: 1.0000 - val_loss: 0.0315\n",
      "Epoch 86/100\n",
      "\u001b[1m3/3\u001b[0m \u001b[32m━━━━━━━━━━━━━━━━━━━━\u001b[0m\u001b[37m\u001b[0m \u001b[1m0s\u001b[0m 33ms/step - accuracy: 0.9775 - loss: 0.0888 - val_accuracy: 1.0000 - val_loss: 0.0314\n",
      "Epoch 87/100\n",
      "\u001b[1m3/3\u001b[0m \u001b[32m━━━━━━━━━━━━━━━━━━━━\u001b[0m\u001b[37m\u001b[0m \u001b[1m0s\u001b[0m 31ms/step - accuracy: 0.9090 - loss: 0.1281 - val_accuracy: 1.0000 - val_loss: 0.0311\n",
      "Epoch 88/100\n",
      "\u001b[1m3/3\u001b[0m \u001b[32m━━━━━━━━━━━━━━━━━━━━\u001b[0m\u001b[37m\u001b[0m \u001b[1m0s\u001b[0m 32ms/step - accuracy: 0.9584 - loss: 0.1020 - val_accuracy: 1.0000 - val_loss: 0.0298\n",
      "Epoch 89/100\n",
      "\u001b[1m3/3\u001b[0m \u001b[32m━━━━━━━━━━━━━━━━━━━━\u001b[0m\u001b[37m\u001b[0m \u001b[1m0s\u001b[0m 33ms/step - accuracy: 0.9697 - loss: 0.0847 - val_accuracy: 1.0000 - val_loss: 0.0285\n",
      "Epoch 90/100\n",
      "\u001b[1m3/3\u001b[0m \u001b[32m━━━━━━━━━━━━━━━━━━━━\u001b[0m\u001b[37m\u001b[0m \u001b[1m0s\u001b[0m 29ms/step - accuracy: 0.9697 - loss: 0.1033 - val_accuracy: 1.0000 - val_loss: 0.0273\n",
      "Epoch 91/100\n",
      "\u001b[1m3/3\u001b[0m \u001b[32m━━━━━━━━━━━━━━━━━━━━\u001b[0m\u001b[37m\u001b[0m \u001b[1m0s\u001b[0m 32ms/step - accuracy: 0.9775 - loss: 0.0575 - val_accuracy: 1.0000 - val_loss: 0.0265\n",
      "Epoch 92/100\n",
      "\u001b[1m3/3\u001b[0m \u001b[32m━━━━━━━━━━━━━━━━━━━━\u001b[0m\u001b[37m\u001b[0m \u001b[1m0s\u001b[0m 32ms/step - accuracy: 0.9584 - loss: 0.0836 - val_accuracy: 1.0000 - val_loss: 0.0272\n",
      "Epoch 93/100\n",
      "\u001b[1m3/3\u001b[0m \u001b[32m━━━━━━━━━━━━━━━━━━━━\u001b[0m\u001b[37m\u001b[0m \u001b[1m0s\u001b[0m 33ms/step - accuracy: 0.9432 - loss: 0.1060 - val_accuracy: 1.0000 - val_loss: 0.0282\n",
      "Epoch 94/100\n",
      "\u001b[1m3/3\u001b[0m \u001b[32m━━━━━━━━━━━━━━━━━━━━\u001b[0m\u001b[37m\u001b[0m \u001b[1m0s\u001b[0m 30ms/step - accuracy: 0.9662 - loss: 0.0787 - val_accuracy: 1.0000 - val_loss: 0.0289\n",
      "Epoch 95/100\n",
      "\u001b[1m3/3\u001b[0m \u001b[32m━━━━━━━━━━━━━━━━━━━━\u001b[0m\u001b[37m\u001b[0m \u001b[1m0s\u001b[0m 27ms/step - accuracy: 0.9584 - loss: 0.0857 - val_accuracy: 1.0000 - val_loss: 0.0293\n",
      "Epoch 96/100\n",
      "\u001b[1m3/3\u001b[0m \u001b[32m━━━━━━━━━━━━━━━━━━━━\u001b[0m\u001b[37m\u001b[0m \u001b[1m0s\u001b[0m 31ms/step - accuracy: 0.9619 - loss: 0.1096 - val_accuracy: 1.0000 - val_loss: 0.0286\n",
      "Epoch 97/100\n",
      "\u001b[1m3/3\u001b[0m \u001b[32m━━━━━━━━━━━━━━━━━━━━\u001b[0m\u001b[37m\u001b[0m \u001b[1m0s\u001b[0m 30ms/step - accuracy: 0.9315 - loss: 0.1206 - val_accuracy: 1.0000 - val_loss: 0.0275\n",
      "Epoch 98/100\n",
      "\u001b[1m3/3\u001b[0m \u001b[32m━━━━━━━━━━━━━━━━━━━━\u001b[0m\u001b[37m\u001b[0m \u001b[1m0s\u001b[0m 32ms/step - accuracy: 0.9619 - loss: 0.0954 - val_accuracy: 1.0000 - val_loss: 0.0266\n",
      "Epoch 99/100\n",
      "\u001b[1m3/3\u001b[0m \u001b[32m━━━━━━━━━━━━━━━━━━━━\u001b[0m\u001b[37m\u001b[0m \u001b[1m0s\u001b[0m 39ms/step - accuracy: 0.9315 - loss: 0.1148 - val_accuracy: 1.0000 - val_loss: 0.0266\n",
      "Epoch 100/100\n",
      "\u001b[1m3/3\u001b[0m \u001b[32m━━━━━━━━━━━━━━━━━━━━\u001b[0m\u001b[37m\u001b[0m \u001b[1m0s\u001b[0m 33ms/step - accuracy: 0.9814 - loss: 0.0783 - val_accuracy: 1.0000 - val_loss: 0.0273\n"
     ]
    }
   ],
   "source": [
    "# Train the model\n",
    "# Train for 100 epochs with a validation split of 20%\n",
    "history = model.fit(X_train, y_train, epochs=100, validation_split=0.2, batch_size=32)"
   ]
  },
  {
   "cell_type": "code",
   "execution_count": 25,
   "id": "57e1a142",
   "metadata": {},
   "outputs": [
    {
     "name": "stdout",
     "output_type": "stream",
     "text": [
      "\u001b[1m1/1\u001b[0m \u001b[32m━━━━━━━━━━━━━━━━━━━━\u001b[0m\u001b[37m\u001b[0m \u001b[1m0s\u001b[0m 47ms/step - accuracy: 0.9545 - loss: 0.0659\n",
      "Accuracy on test data: 0.9545454382896423\n"
     ]
    }
   ],
   "source": [
    "# Evaluate the model on test data\n",
    "loss, accuracy = model.evaluate(X_test, y_test)\n",
    "print(f\"Accuracy on test data: {accuracy}\")"
   ]
  },
  {
   "cell_type": "code",
   "execution_count": 26,
   "id": "eaa180c7",
   "metadata": {},
   "outputs": [
    {
     "name": "stdout",
     "output_type": "stream",
     "text": [
      "\u001b[1m1/1\u001b[0m \u001b[32m━━━━━━━━━━━━━━━━━━━━\u001b[0m\u001b[37m\u001b[0m \u001b[1m0s\u001b[0m 73ms/step\n"
     ]
    }
   ],
   "source": [
    "# Make predictions\n",
    "# Predict the class labels for the test set\n",
    "predictions = (model.predict(X_test) > 0.5).astype(\"int32\")"
   ]
  },
  {
   "cell_type": "code",
   "execution_count": 27,
   "id": "531eb0c1",
   "metadata": {},
   "outputs": [
    {
     "name": "stdout",
     "output_type": "stream",
     "text": [
      "\u001b[1m1/1\u001b[0m \u001b[32m━━━━━━━━━━━━━━━━━━━━\u001b[0m\u001b[37m\u001b[0m \u001b[1m0s\u001b[0m 24ms/step\n",
      "Accuracy Score: 0.9545454545454546\n",
      "Precision Score: 1.0\n",
      "Recall Score: 0.9\n",
      "F1 Score: 0.9473684210526315\n",
      "ROC AUC Score: 1.0\n"
     ]
    }
   ],
   "source": [
    "# Calculate evaluation metrics:\n",
    "# Compute accuracy, precision, recall, F1 score, and ROC AUC score\n",
    "accuracy_score_val = accuracy_score(y_test, predictions)\n",
    "precision_score_val = precision_score(y_test, predictions)\n",
    "recall_score_val = recall_score(y_test, predictions)\n",
    "f1_score_val = f1_score(y_test, predictions)\n",
    "roc_auc_score_val = roc_auc_score(y_test, model.predict(X_test))\n",
    "\n",
    "print(f\"Accuracy Score: {accuracy_score_val}\")\n",
    "print(f\"Precision Score: {precision_score_val}\")\n",
    "print(f\"Recall Score: {recall_score_val}\")\n",
    "print(f\"F1 Score: {f1_score_val}\")\n",
    "print(f\"ROC AUC Score: {roc_auc_score_val}\")"
   ]
  },
  {
   "cell_type": "code",
   "execution_count": 28,
   "id": "b9c235f5",
   "metadata": {},
   "outputs": [
    {
     "data": {
      "image/png": "[encoded data removed]",
      "text/plain": [
       "<Figure size 800x600 with 2 Axes>"
      ]
     },
     "metadata": {},
     "output_type": "display_data"
    }
   ],
   "source": [
    "# Plot the confusion matrix to visualize model performance\n",
    "# Compute the confusion matrix\n",
    "conf_matrix = confusion_matrix(y_test, predictions)\n",
    "\n",
    "# Plot the confusion matrix using Seaborn's heatmap\n",
    "plt.figure(figsize=(8, 6))\n",
    "sns.heatmap(conf_matrix, annot=True, fmt='d', cmap='Blues', \n",
    "            xticklabels=['Predicted Negative', 'Predicted Positive'], \n",
    "            yticklabels=['Actual Negative', 'Actual Positive'])\n",
    "plt.xlabel('Predicted')\n",
    "plt.ylabel('Actual')\n",
    "plt.title('Confusion Matrix')\n",
    "plt.show()"
   ]
  },
  {
   "cell_type": "code",
   "execution_count": 29,
   "id": "c2e1ebfb",
   "metadata": {},
   "outputs": [],
   "source": [
    "import pickle\n",
    "\n",
    "# Save the model to a file\n",
    "with open('model.pkl', 'wb') as file:\n",
    "  pickle.dump(model, file)"
   ]
  },
  {
   "cell_type": "code",
   "execution_count": null,
   "id": "ec379b83",
   "metadata": {},
   "outputs": [],
   "source": [
    "# Conclusion\n",
    "# This script demonstrates a complete workflow for processing remote sensing data, extracting relevant features, and using them for classification with a neural network. The model successfully distinguishes between healthy and non-healthy vegetation plots, with metrics indicating its performance. Future improvements could involve more advanced techniques for handling class imbalance or exploring other machine learning models."
   ]
  }
 ],
 "metadata": {
  "kernelspec": {
   "display_name": "Python (crop-ai-env)",
   "language": "python",
   "name": "crop-ai-env"
  },
  "language_info": {
   "codemirror_mode": {
    "name": "ipython",
    "version": 3
   },
   "file_extension": ".py",
   "mimetype": "text/x-python",
   "name": "python",
   "nbconvert_exporter": "python",
   "pygments_lexer": "ipython3",
   "version": "3.12.3"
  }
 },
 "nbformat": 4,
 "nbformat_minor": 5
}
